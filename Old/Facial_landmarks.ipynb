{
 "cells": [
  {
   "cell_type": "code",
   "execution_count": 2,
   "metadata": {},
   "outputs": [],
   "source": [
    "import numpy as np\n",
    "import dlib \n",
    "import cv2\n",
    "from imutils import face_utils\n",
    "import imutils"
   ]
  },
  {
   "cell_type": "code",
   "execution_count": 2,
   "metadata": {},
   "outputs": [],
   "source": [
    "def rect_bb(rect): # accepts bounding box of face(rect) \n",
    "                      # detetcted by face detector\n",
    "    x = rect.left()   # which give only x,y coordinates \n",
    "    y = rect.top()    # converts int into 4-tupples of argument \n",
    "    w = rect.right() - x  #(x,y,width,height)\n",
    "    h = rect.bottom() - y\n",
    "    \n",
    "    return (x,y,w,h)"
   ]
  },
  {
   "cell_type": "code",
   "execution_count": 3,
   "metadata": {},
   "outputs": [],
   "source": [
    "# converts the shape object of 68 facial landmarks to numpy array\n",
    "\n",
    "def shape_np(shape):\n",
    "    cord = np.zeros((68,2),dtype=dtype)\n",
    "    for i in range(0,68):\n",
    "        cord[i] = (shape.part(i).x,shape.part(i).y)\n",
    "    return cord"
   ]
  },
  {
   "cell_type": "code",
   "execution_count": 3,
   "metadata": {},
   "outputs": [],
   "source": [
    "detector = dlib.get_frontal_face_detector()\n",
    "predictor = dlib.shape_predictor(\"shape_predictor_68_face_landmarks.dat\")\n",
    "# initialized face deetctor\n",
    "#initialized facial landmarks detctor "
   ]
  },
  {
   "cell_type": "code",
   "execution_count": 6,
   "metadata": {},
   "outputs": [],
   "source": [
    "image = cv2.imread(\"images/me3.jpg\")\n",
    "image = imutils.resize(image,width=500)\n",
    "gray = cv2.cvtColor(image,cv2.COLOR_BGR2GRAY)\n",
    "\n",
    "rects = detector(gray,1)"
   ]
  },
  {
   "cell_type": "code",
   "execution_count": 7,
   "metadata": {},
   "outputs": [],
   "source": [
    "for(i,rect) in enumerate(rects):\n",
    "    shape = predictor(gray,rect)\n",
    "    shape = face_utils.shape_to_np(shape)\n",
    "    (x,y,w,h) = face_utils.rect_to_bb(rect)\n",
    "    cv2.rectangle(image,(x,y),(x+w,y+h),(0,255,0),2)\n",
    "    for(x,y)in shape:\n",
    "        cv2.circle(image,(x,y),1,(0,0,255),-1)"
   ]
  },
  {
   "cell_type": "code",
   "execution_count": 8,
   "metadata": {},
   "outputs": [],
   "source": [
    "cv2.imshow('me',image)\n",
    "cv2.waitKey(0)\n",
    "cv2.destroyAllWindows()"
   ]
  },
  {
   "cell_type": "code",
   "execution_count": null,
   "metadata": {},
   "outputs": [],
   "source": []
  }
 ],
 "metadata": {
  "kernelspec": {
   "display_name": "Python 3",
   "language": "python",
   "name": "python3"
  },
  "language_info": {
   "codemirror_mode": {
    "name": "ipython",
    "version": 3
   },
   "file_extension": ".py",
   "mimetype": "text/x-python",
   "name": "python",
   "nbconvert_exporter": "python",
   "pygments_lexer": "ipython3",
   "version": "3.6.5"
  }
 },
 "nbformat": 4,
 "nbformat_minor": 2
}
